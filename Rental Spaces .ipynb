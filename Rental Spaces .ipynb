{
 "cells": [
  {
   "cell_type": "code",
   "execution_count": 2,
   "metadata": {},
   "outputs": [
    {
     "name": "stdout",
     "output_type": "stream",
     "text": [
      "                                             Address  Rent  Size Neighbourhood\n",
      "0  464 Steven Place Apt. 194, West Stevenmouth, 9...  3619   104      Glanmire\n",
      "1                      723 Reyes Row, Bradton, 54526  1456   179  Ballintemple\n",
      "2         261 Andrews Hill Apt. 673, Saraview, 35777  1102   117     The Lough\n",
      "3  9694 Karen Roads Apt. 978, Port Susanborough, ...  4037    83        Togher\n",
      "4           314 Rangel Village, East Victoria, 61428  2126   139        Togher\n"
     ]
    }
   ],
   "source": [
    "# Import necessary libraries\n",
    "from faker import Faker\n",
    "import pandas as pd\n",
    "import random\n",
    "\n",
    "# Instantiate Faker\n",
    "fake = Faker()\n",
    "\n",
    "# Set random seed for reproducibility\n",
    "random.seed(42)\n",
    "\n",
    "# List of neighbourhoods in Cork\n",
    "neighbourhoods = ['The Lough', 'Shandon', 'Togher', 'Blackpool', 'Ballintemple', \n",
    "                  'Mahon', 'Glanmire', 'Ballyvolane', 'Rochestown', 'Bishopstown']\n",
    "\n",
    "# Generate synthetic data for rental spaces\n",
    "address = [fake.street_address() + ', ' + fake.city() + ', ' + fake.zipcode() for _ in range(500)]  # Generate 500 fake addresses\n",
    "rent = [random.randint(1000, 5000) for _ in range(500)]  # Rent in the range of 1000 to 5000\n",
    "size = [random.randint(50, 200) for _ in range(500)]  # Size in the range of 50 to 200 sq. meters\n",
    "\n",
    "# Create a DataFrame for rental spaces\n",
    "rental_spaces_df = pd.DataFrame({\n",
    "    'Address': address,\n",
    "    'Rent': rent,\n",
    "    'Size': size,\n",
    "    'Neighbourhood': random.choices(neighbourhoods, k=500)  # Randomly assign a neighbourhood to each rental space\n",
    "})\n",
    "\n",
    "# Display the DataFrame\n",
    "print(rental_spaces_df.head())"
   ]
  },
  {
   "cell_type": "code",
   "execution_count": 3,
   "metadata": {},
   "outputs": [],
   "source": [
    "# Save the rental spaces DataFrame to a CSV file\n",
    "rental_spaces_df.to_csv('rental_spaces.csv', index=False)"
   ]
  },
  {
   "cell_type": "code",
   "execution_count": null,
   "metadata": {},
   "outputs": [],
   "source": []
  }
 ],
 "metadata": {
  "kernelspec": {
   "display_name": "Python 3",
   "language": "python",
   "name": "python3"
  },
  "language_info": {
   "codemirror_mode": {
    "name": "ipython",
    "version": 3
   },
   "file_extension": ".py",
   "mimetype": "text/x-python",
   "name": "python",
   "nbconvert_exporter": "python",
   "pygments_lexer": "ipython3",
   "version": "3.8.3"
  }
 },
 "nbformat": 4,
 "nbformat_minor": 4
}
