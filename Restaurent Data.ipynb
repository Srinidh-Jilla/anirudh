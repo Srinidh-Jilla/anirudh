{
 "cells": [
  {
   "cell_type": "code",
   "execution_count": 1,
   "metadata": {},
   "outputs": [
    {
     "name": "stdout",
     "output_type": "stream",
     "text": [
      "          Name    Cuisine           Type  Rating  Review Count Affordability  \\\n",
      "0   Jacques 16   European    Fine Dining     1.2            51        Costly   \n",
      "1      Fenn 38      Asian       Restopub     3.4           390         Cheap   \n",
      "2    Liberty 4     Coffee  Casual Dining     2.4           325    Affordable   \n",
      "3  Paradiso 15      Pizza           Cafe     4.1           361    Affordable   \n",
      "4       Fenn 5  Fast food    Fine Dining     2.7           447         Cheap   \n",
      "\n",
      "   Neighbourhood  \n",
      "0  Turners Cross  \n",
      "1      Blackrock  \n",
      "2      Blackpool  \n",
      "3         Wilton  \n",
      "4  Carrigtwohill  \n"
     ]
    }
   ],
   "source": [
    "# Import the necessary libraries\n",
    "import pandas as pd\n",
    "import random\n",
    "\n",
    "# Set random seed for reproducibility\n",
    "random.seed(42)\n",
    "\n",
    "# Create a larger list of unique restaurant names\n",
    "base_names = ['Farmgate', 'Gusto', 'Quay', 'Fenn', 'Jacques', \n",
    "        'Liberty', 'Paradiso', 'Market', 'Electric', 'Amicus']\n",
    "name = [f'{base_name} {i}' for i in range(50) for base_name in base_names]\n",
    "\n",
    "# Shuffle the names to ensure randomness\n",
    "random.shuffle(name)\n",
    "\n",
    "# The rest of the code remains the same as before\n",
    "\n",
    "cuisine = ['Irish','Coffee','Japanese','Fast food','Pizza','European','Chinese','Mediterranean','Asian','Spanish','Italian','Indian',\n",
    "'Bar',\n",
    "'Healthy',\n",
    "'Mexican',\n",
    "'Brazilian']\n",
    "type_res = ['Restopub', 'Fastfood', 'Cafe', 'Fine Dining', 'Casual Dining']\n",
    "rating = [round(random.uniform(1, 5), 1) for _ in range(500)]  # ratings between 1 and 5\n",
    "review_count = [random.randint(1, 500) for _ in range(500)]  # review count between 1 and 500\n",
    "affordability = ['Costly', 'Cheap', 'Affordable']\n",
    "neighbourhoods = ['Ballincollig','Glanmire','Blackrock','Bishopstown','Douglas','Blackpool','Mahon','Carrigaline','Turners Cross','Wilton','Carrigtwohill','Passage West','Togher','City Centre']\n",
    "\n",
    "# Create a DataFrame\n",
    "restaurants_df = pd.DataFrame({\n",
    "    'Name': name,\n",
    "    'Cuisine': random.choices(cuisine, k=500),\n",
    "    'Type': random.choices(type_res, k=500),\n",
    "    'Rating': rating,\n",
    "    'Review Count': review_count,\n",
    "    'Affordability': random.choices(affordability, k=500),\n",
    "    'Neighbourhood': random.choices(neighbourhoods, k=500)\n",
    "})\n",
    "\n",
    "# Display the DataFrame\n",
    "print(restaurants_df.head())"
   ]
  },
  {
   "cell_type": "code",
   "execution_count": 2,
   "metadata": {},
   "outputs": [],
   "source": [
    "# Save the restaurant DataFrame to a CSV file\n",
    "restaurants_df.to_csv('restaurants.csv', index=False)"
   ]
  },
  {
   "cell_type": "code",
   "execution_count": null,
   "metadata": {},
   "outputs": [],
   "source": []
  }
 ],
 "metadata": {
  "kernelspec": {
   "display_name": "Python 3",
   "language": "python",
   "name": "python3"
  },
  "language_info": {
   "codemirror_mode": {
    "name": "ipython",
    "version": 3
   },
   "file_extension": ".py",
   "mimetype": "text/x-python",
   "name": "python",
   "nbconvert_exporter": "python",
   "pygments_lexer": "ipython3",
   "version": "3.8.3"
  }
 },
 "nbformat": 4,
 "nbformat_minor": 4
}
